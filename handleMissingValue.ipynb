{
 "cells": [
  {
   "cell_type": "markdown",
   "id": "654550da-bda1-43e3-bbc5-afe08934952e",
   "metadata": {
    "tags": []
   },
   "source": [
    "# 책데이터 전처리\n",
    "* description, kdc_class_no\n",
    "## KDC 결측값\n",
    "* 국립중앙도서관 API사용\n",
    "* 두개의 다른 API를 거쳐 결측치 최대한 줄이려고 함\n",
    "* 1차: 국립중앙도서관 소장자료 조회\n",
    "* 2차: 국립중앙도서관 ISBN 서지정보 조회\n",
    "* 결측치 14000 -> 3890"
   ]
  },
  {
   "cell_type": "code",
   "execution_count": 441,
   "id": "6183a90a-9d9f-497b-957c-957da942140b",
   "metadata": {},
   "outputs": [],
   "source": [
    "import pandas as pd\n",
    "import requests\n",
    "import pprint\n",
    "import json\n",
    "import matplotlib.pyplot as plt"
   ]
  },
  {
   "cell_type": "code",
   "execution_count": 57,
   "id": "9536d334-8bf4-424a-81b4-33300395a2bb",
   "metadata": {},
   "outputs": [],
   "source": [
    "pd.set_option('display.max_rows', 5)"
   ]
  },
  {
   "cell_type": "code",
   "execution_count": 239,
   "id": "f24b7a57-071e-4e2d-8f6d-a39f7dcdef59",
   "metadata": {},
   "outputs": [
    {
     "name": "stderr",
     "output_type": "stream",
     "text": [
      "C:\\Users\\82104\\AppData\\Local\\Temp\\ipykernel_19420\\3019416909.py:1: DtypeWarning: Columns (7) have mixed types. Specify dtype option on import or set low_memory=False.\n",
      "  csv_data = pd.read_csv(\"NL_BO_SPECIES_MASTER_NEW_202112.csv\", sep = \",\")\n"
     ]
    }
   ],
   "source": [
    "csv_data = pd.read_csv(\"NL_BO_SPECIES_MASTER_NEW_202112.csv\", sep = \",\")"
   ]
  },
  {
   "cell_type": "code",
   "execution_count": 442,
   "id": "d335fd03-7a73-478b-8072-d4bd521d3875",
   "metadata": {},
   "outputs": [
    {
     "data": {
      "text/plain": [
       "<AxesSubplot:>"
      ]
     },
     "execution_count": 442,
     "metadata": {},
     "output_type": "execute_result"
    },
    {
     "data": {
      "image/png": "[encoded data removed]",
      "text/plain": [
       "<Figure size 720x288 with 1 Axes>"
      ]
     },
     "metadata": {
      "needs_background": "light"
     },
     "output_type": "display_data"
    }
   ],
   "source": [
    "fig = plt.figure(figsize=(10, 4))\n",
    "csv_data.isnull().sum().plot(kind='bar')"
   ]
  },
  {
   "cell_type": "code",
   "execution_count": 439,
   "id": "b53eaf5f-b836-4e6c-9a1b-551d7b637ee3",
   "metadata": {},
   "outputs": [],
   "source": [
    "# cond = csv_data['kdc_class_no'].isnull()\n",
    "\n",
    "# no_kdc_df = pd.DataFrame(csv_data[cond]).reset_index(drop=True)\n",
    "# no_kdc_dfb\n",
    "# yes_kdc_df = pd.DataFrame(csv_data[-cond]).reset_index(drop=True)\n",
    "# yes_kdc_df\n",
    "\n",
    "# cond2 = no_kdc_df['kdc_class_no'].isnull()\n",
    "\n",
    "# no_kdc_df2 = pd.DataFrame(no_kdc_df[cond2]).reset_index(drop=True)\n",
    "# no_kdc_df2\n",
    "# yes_kdc_df2 = pd.DataFrame(no_kdc_df[-cond2]).reset_index(drop=True)\n",
    "# yes_kdc_df2"
   ]
  },
  {
   "cell_type": "code",
   "execution_count": 330,
   "id": "b1818145-3b66-4661-a981-8eb5b229a131",
   "metadata": {
    "tags": []
   },
   "outputs": [
    {
     "name": "stdout",
     "output_type": "stream",
     "text": [
      "clear fail=3890\n"
     ]
    }
   ],
   "source": [
    "cnt = 0\n",
    "fail_cnt=0\n",
    "API_KEY = '*'\n",
    "\n",
    "for i in range(len(no_kdc_df2)):\n",
    "    cnt += 1\n",
    "    isbn = int(no_kdc_df2.iloc[i].isbn13)\n",
    "    url = f'https://www.nl.go.kr/NL/search/openApi/search.do?key={API_KEY}&apiType=json&kwd={isbn}&pageSize=1&category=도서'\n",
    "    response = requests.get(url)\n",
    "    contents = json.loads(response.text)\n",
    "    # print(contents, '\\n')\n",
    "    if contents['total'] == 1:\n",
    "        no_kdc_df2.iloc[i, 11] = contents['result'][0]['classNo']\n",
    "    else:\n",
    "        url = f'https://www.nl.go.kr/seoji/SearchApi.do?cert_key={API_KEY}&result_style=json&page_no=1&page_size=10&isbn={isbn}'\n",
    "        response = requests.get(url)\n",
    "        contents = json.loads(response.text)\n",
    "        if contents['TOTAL_COUNT'] == '1':\n",
    "            # print(contents['docs'][0]['SUBJECT'])\n",
    "            no_kdc_df2.iloc[i, 11] = contents['docs'][0]['SUBJECT']\n",
    "        else:\n",
    "            fail_cnt += 1\n",
    "        \n",
    "        \n",
    "        \n",
    "print(f'clear fail={fail_cnt}')"
   ]
  },
  {
   "cell_type": "code",
   "execution_count": 436,
   "id": "c697824e-f6d7-4750-9e45-7b7c40821d0a",
   "metadata": {},
   "outputs": [],
   "source": [
    "# no_kdc_df2.kdc_class_no.isnull().sum()\n",
    "\n",
    "# result = pd.concat([yes_kdc_df,yes_kdc_df2,no_kdc_df2], ignore_index=True)\n",
    "\n",
    "# result.kdc_class_no.isnull().sum()\n",
    "\n",
    "# # result.kdc_class_no.isnull().sum()\n",
    "# # result.to_csv(\"kdc_clear_df.csv\",index=False,sep = \",\")"
   ]
  },
  {
   "cell_type": "markdown",
   "id": "bcbe9f18-f222-4d33-b2c8-ef9d89dc01a9",
   "metadata": {
    "tags": []
   },
   "source": [
    "## Description 결측값\n",
    "* 카카오API사용\n",
    "* 카카오책검색 API 일일 한도 30000건이라 나눠서 진행(팀원 API키값 공유해서 해결)\n",
    "* 72913 -> 59092"
   ]
  },
  {
   "cell_type": "markdown",
   "id": "670078c1-95c1-4119-8a41-2160fcdc41d3",
   "metadata": {},
   "source": [
    "### 1회차"
   ]
  },
  {
   "cell_type": "code",
   "execution_count": 360,
   "id": "a79166b4-0c84-4dfd-a201-28555bb59a97",
   "metadata": {},
   "outputs": [
    {
     "data": {
      "text/plain": [
       "72913"
      ]
     },
     "execution_count": 360,
     "metadata": {},
     "output_type": "execute_result"
    }
   ],
   "source": [
    "result.description.isnull().sum()"
   ]
  },
  {
   "cell_type": "code",
   "execution_count": 361,
   "id": "c02350f3-0625-40a1-9ea2-6a44b4e4b20c",
   "metadata": {},
   "outputs": [],
   "source": [
    "# cond3 = result['description'].isnull()\n",
    "\n",
    "# no_desc_df = pd.DataFrame(result[cond3]).reset_index(drop=True)\n",
    "# yes_desc_df = pd.DataFrame(result[-cond3]).reset_index(drop=True)\n",
    "\n",
    "# no_desc_df"
   ]
  },
  {
   "cell_type": "code",
   "execution_count": 380,
   "id": "b94df06d-cf70-4272-975b-8023ffa95d3d",
   "metadata": {},
   "outputs": [
    {
     "ename": "KeyError",
     "evalue": "'meta'",
     "output_type": "error",
     "traceback": [
      "\u001b[1;31m---------------------------------------------------------------------------\u001b[0m",
      "\u001b[1;31mKeyError\u001b[0m                                  Traceback (most recent call last)",
      "Input \u001b[1;32mIn [380]\u001b[0m, in \u001b[0;36m<cell line: 5>\u001b[1;34m()\u001b[0m\n\u001b[0;32m      9\u001b[0m response \u001b[38;5;241m=\u001b[39m requests\u001b[38;5;241m.\u001b[39mget(url, headers\u001b[38;5;241m=\u001b[39mheaders)\n\u001b[0;32m     10\u001b[0m contents \u001b[38;5;241m=\u001b[39m json\u001b[38;5;241m.\u001b[39mloads(response\u001b[38;5;241m.\u001b[39mtext)\n\u001b[1;32m---> 11\u001b[0m \u001b[38;5;28;01mif\u001b[39;00m \u001b[43mcontents\u001b[49m\u001b[43m[\u001b[49m\u001b[38;5;124;43m'\u001b[39;49m\u001b[38;5;124;43mmeta\u001b[39;49m\u001b[38;5;124;43m'\u001b[39;49m\u001b[43m]\u001b[49m[\u001b[38;5;124m'\u001b[39m\u001b[38;5;124mtotal_count\u001b[39m\u001b[38;5;124m'\u001b[39m] \u001b[38;5;241m==\u001b[39m \u001b[38;5;241m1\u001b[39m:\n\u001b[0;32m     12\u001b[0m     no_desc_df\u001b[38;5;241m.\u001b[39miloc[i, \u001b[38;5;241m10\u001b[39m] \u001b[38;5;241m=\u001b[39m contents[\u001b[38;5;124m'\u001b[39m\u001b[38;5;124mdocuments\u001b[39m\u001b[38;5;124m'\u001b[39m][\u001b[38;5;241m0\u001b[39m][\u001b[38;5;124m'\u001b[39m\u001b[38;5;124mcontents\u001b[39m\u001b[38;5;124m'\u001b[39m]\n\u001b[0;32m     13\u001b[0m \u001b[38;5;28;01melse\u001b[39;00m:\n",
      "\u001b[1;31mKeyError\u001b[0m: 'meta'"
     ]
    }
   ],
   "source": [
    "cnt = 0\n",
    "fail_cnt=0\n",
    "headers = {\"Authorization\": \"KakaoAK *\"}\n",
    "\n",
    "for i in range(len(no_desc_df)):\n",
    "    cnt += 1\n",
    "    isbn = int(no_desc_df.iloc[i].isbn13)\n",
    "    url = f'https://dapi.kakao.com/v3/search/book?&target=isbn&size=1&query=${isbn}'\n",
    "    response = requests.get(url, headers=headers)\n",
    "    contents = json.loads(response.text)\n",
    "    if contents['meta']['total_count'] == 1:\n",
    "        no_desc_df.iloc[i, 10] = contents['documents'][0]['contents']\n",
    "    else:\n",
    "        fail_cnt += 1\n",
    "        \n",
    "print(f'clear fail={fail_cnt}')"
   ]
  },
  {
   "cell_type": "code",
   "execution_count": 405,
   "id": "3acbd7d0-d2f0-4d52-9b7d-0d8d7c1fe524",
   "metadata": {},
   "outputs": [],
   "source": [
    "# clear_desc_df = pd.DataFrame(no_desc_df.iloc[:29971,]).reset_index(drop=True)\n",
    "# result2 = pd.concat([yes_desc_df,clear_desc_df], ignore_index=True)\n",
    "# result2.to_csv(\"clear_desc_df.csv\",index=False,sep = \",\")\n",
    "\n",
    "# # no_desc_df.iloc[29971:,]\n",
    "# no_desc_df2 = pd.DataFrame(no_desc_df.iloc[29971:,]).reset_index(drop=True)\n",
    "# no_desc_df2.to_csv(\"nonclear_desc_df.csv\",index=False,sep = \",\")"
   ]
  },
  {
   "cell_type": "markdown",
   "id": "46822cde-14b4-40ad-9654-8915aef840e5",
   "metadata": {
    "tags": []
   },
   "source": [
    "### 2회차"
   ]
  },
  {
   "cell_type": "code",
   "execution_count": 415,
   "id": "671b80ba-5112-41c9-b95d-5d0398dd5f1f",
   "metadata": {},
   "outputs": [
    {
     "data": {
      "text/plain": [
       "42942"
      ]
     },
     "execution_count": 415,
     "metadata": {},
     "output_type": "execute_result"
    }
   ],
   "source": [
    "no_desc_df2.description.isnull().sum()"
   ]
  },
  {
   "cell_type": "code",
   "execution_count": 416,
   "id": "5df98e52-6b8f-4af8-99a5-fb753f66c0e2",
   "metadata": {},
   "outputs": [
    {
     "ename": "KeyError",
     "evalue": "'meta'",
     "output_type": "error",
     "traceback": [
      "\u001b[1;31m---------------------------------------------------------------------------\u001b[0m",
      "\u001b[1;31mKeyError\u001b[0m                                  Traceback (most recent call last)",
      "Input \u001b[1;32mIn [416]\u001b[0m, in \u001b[0;36m<cell line: 5>\u001b[1;34m()\u001b[0m\n\u001b[0;32m      9\u001b[0m response \u001b[38;5;241m=\u001b[39m requests\u001b[38;5;241m.\u001b[39mget(url, headers\u001b[38;5;241m=\u001b[39mheaders)\n\u001b[0;32m     10\u001b[0m contents \u001b[38;5;241m=\u001b[39m json\u001b[38;5;241m.\u001b[39mloads(response\u001b[38;5;241m.\u001b[39mtext)\n\u001b[1;32m---> 11\u001b[0m \u001b[38;5;28;01mif\u001b[39;00m \u001b[43mcontents\u001b[49m\u001b[43m[\u001b[49m\u001b[38;5;124;43m'\u001b[39;49m\u001b[38;5;124;43mmeta\u001b[39;49m\u001b[38;5;124;43m'\u001b[39;49m\u001b[43m]\u001b[49m[\u001b[38;5;124m'\u001b[39m\u001b[38;5;124mtotal_count\u001b[39m\u001b[38;5;124m'\u001b[39m] \u001b[38;5;241m==\u001b[39m \u001b[38;5;241m1\u001b[39m:\n\u001b[0;32m     12\u001b[0m     no_desc_df2\u001b[38;5;241m.\u001b[39miloc[i, \u001b[38;5;241m10\u001b[39m] \u001b[38;5;241m=\u001b[39m contents[\u001b[38;5;124m'\u001b[39m\u001b[38;5;124mdocuments\u001b[39m\u001b[38;5;124m'\u001b[39m][\u001b[38;5;241m0\u001b[39m][\u001b[38;5;124m'\u001b[39m\u001b[38;5;124mcontents\u001b[39m\u001b[38;5;124m'\u001b[39m]\n\u001b[0;32m     13\u001b[0m \u001b[38;5;28;01melse\u001b[39;00m:\n",
      "\u001b[1;31mKeyError\u001b[0m: 'meta'"
     ]
    }
   ],
   "source": [
    "cnt = 0\n",
    "fail_cnt=0\n",
    "headers = {\"Authorization\": \"KakaoAK *\"}\n",
    "\n",
    "for i in range(len(no_desc_df2)):\n",
    "    cnt += 1\n",
    "    isbn = int(no_desc_df2.iloc[i].isbn13)\n",
    "    url = f'https://dapi.kakao.com/v3/search/book?&target=isbn&size=1&query=${isbn}'\n",
    "    response = requests.get(url, headers=headers)\n",
    "    contents = json.loads(response.text)\n",
    "    if contents['meta']['total_count'] == 1:\n",
    "        no_desc_df2.iloc[i, 10] = contents['documents'][0]['contents']\n",
    "    else:\n",
    "        fail_cnt += 1\n",
    "        \n",
    "print(f'clear fail={fail_cnt}')"
   ]
  },
  {
   "cell_type": "code",
   "execution_count": 418,
   "id": "d1496df4-c98f-42f1-90c9-26ab42e7d930",
   "metadata": {},
   "outputs": [
    {
     "data": {
      "text/plain": [
       "39795"
      ]
     },
     "execution_count": 418,
     "metadata": {},
     "output_type": "execute_result"
    }
   ],
   "source": [
    "no_desc_df2.description.isnull().sum()"
   ]
  },
  {
   "cell_type": "code",
   "execution_count": 423,
   "id": "22c99cd3-a5d6-4562-a0be-bfdca6097ef7",
   "metadata": {},
   "outputs": [],
   "source": [
    "# clear_desc_df2 = pd.DataFrame(no_desc_df2.iloc[:30000,]).reset_index(drop=True)\n",
    "# result2 = pd.concat([result2,clear_desc_df2], ignore_index=True)\n",
    "# result2.to_csv(\"clear_desc_df.csv\",index=False,sep = \",\")\n",
    "\n",
    "# no_desc_df3 = pd.DataFrame(no_desc_df2.iloc[30000:,]).reset_index(drop=True)\n",
    "# no_desc_df3"
   ]
  },
  {
   "cell_type": "markdown",
   "id": "87563d6e-d65c-4dc5-a15b-9df3f1d497dd",
   "metadata": {
    "tags": []
   },
   "source": [
    "### 3회차"
   ]
  },
  {
   "cell_type": "code",
   "execution_count": 426,
   "id": "dacf8e49-f6b5-4fc4-b0c5-a5526fd9e4a6",
   "metadata": {},
   "outputs": [
    {
     "name": "stdout",
     "output_type": "stream",
     "text": [
      "clear fail=9914\n"
     ]
    }
   ],
   "source": [
    "cnt = 0\n",
    "fail_cnt=0\n",
    "headers = {\"Authorization\": \"KakaoAK *\"}\n",
    "\n",
    "for i in range(len(no_desc_df3)):\n",
    "    cnt += 1\n",
    "    isbn = int(no_desc_df3.iloc[i].isbn13)\n",
    "    url = f'https://dapi.kakao.com/v3/search/book?&target=isbn&size=1&query=${isbn}'\n",
    "    response = requests.get(url, headers=headers)\n",
    "    contents = json.loads(response.text)\n",
    "    if contents['meta']['total_count'] == 1:\n",
    "        no_desc_df3.iloc[i, 10] = contents['documents'][0]['contents']\n",
    "    else:\n",
    "        fail_cnt += 1\n",
    "        \n",
    "print(f'clear fail={fail_cnt}')"
   ]
  },
  {
   "cell_type": "code",
   "execution_count": 433,
   "id": "073ed42f-766c-4bb7-aea1-5fdb83f1eb5c",
   "metadata": {},
   "outputs": [],
   "source": [
    "result2 = pd.concat([result2,no_desc_df3], ignore_index=True)\n",
    "result2.to_csv(\"book_df.csv\",index=False,sep = \",\")"
   ]
  },
  {
   "cell_type": "code",
   "execution_count": 435,
   "id": "6a9df75c-0e73-4041-baea-2b5349597e61",
   "metadata": {},
   "outputs": [
    {
     "data": {
      "text/plain": [
       "59092"
      ]
     },
     "execution_count": 435,
     "metadata": {},
     "output_type": "execute_result"
    }
   ],
   "source": [
    "result2.description.isnull().sum()"
   ]
  },
  {
   "cell_type": "code",
   "execution_count": 443,
   "id": "a93d9748-60de-4ddc-a3eb-8b8da337cd6a",
   "metadata": {},
   "outputs": [
    {
     "data": {
      "text/plain": [
       "<AxesSubplot:>"
      ]
     },
     "execution_count": 443,
     "metadata": {},
     "output_type": "execute_result"
    },
    {
     "data": {
      "image/png": "[encoded data removed]",
      "text/plain": [
       "<Figure size 720x288 with 1 Axes>"
      ]
     },
     "metadata": {
      "needs_background": "light"
     },
     "output_type": "display_data"
    }
   ],
   "source": [
    "fig = plt.figure(figsize=(10, 4))\n",
    "result2.isnull().sum().plot(kind='bar')"
   ]
  }
 ],
 "metadata": {
  "kernelspec": {
   "display_name": "Python 3 (ipykernel)",
   "language": "python",
   "name": "python3"
  },
  "language_info": {
   "codemirror_mode": {
    "name": "ipython",
    "version": 3
   },
   "file_extension": ".py",
   "mimetype": "text/x-python",
   "name": "python",
   "nbconvert_exporter": "python",
   "pygments_lexer": "ipython3",
   "version": "3.8.8"
  }
 },
 "nbformat": 4,
 "nbformat_minor": 5
}
